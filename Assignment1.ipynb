{
 "cells": [
  {
   "cell_type": "markdown",
   "id": "c5a247cc-35c4-4d2b-84d8-f2199af0bb69",
   "metadata": {},
   "source": [
    "# Group Project\n",
    "## Individual assignment 1: data and question"
   ]
  },
  {
   "cell_type": "code",
   "execution_count": 2,
   "id": "7ed6d47f-6036-41d9-b14c-6bf4a322cab4",
   "metadata": {
    "tags": []
   },
   "outputs": [],
   "source": [
    "library(readr)"
   ]
  },
  {
   "cell_type": "code",
   "execution_count": 5,
   "id": "f635b87d-9415-4ab7-a1aa-2cb1f8971162",
   "metadata": {
    "tags": []
   },
   "outputs": [
    {
     "name": "stderr",
     "output_type": "stream",
     "text": [
      "\u001b[1mRows: \u001b[22m\u001b[34m1470\u001b[39m \u001b[1mColumns: \u001b[22m\u001b[34m35\u001b[39m\n",
      "\u001b[36m──\u001b[39m \u001b[1mColumn specification\u001b[22m \u001b[36m────────────────────────────────────────────────────────\u001b[39m\n",
      "\u001b[1mDelimiter:\u001b[22m \",\"\n",
      "\u001b[31mchr\u001b[39m  (9): Attrition, BusinessTravel, Department, EducationField, Gender, Job...\n",
      "\u001b[32mdbl\u001b[39m (26): Age, DailyRate, DistanceFromHome, Education, EmployeeCount, Employ...\n",
      "\n",
      "\u001b[36mℹ\u001b[39m Use `spec()` to retrieve the full column specification for this data.\n",
      "\u001b[36mℹ\u001b[39m Specify the column types or set `show_col_types = FALSE` to quiet this message.\n"
     ]
    },
    {
     "data": {
      "text/html": [
       "<table class=\"dataframe\">\n",
       "<caption>A tibble: 6 × 35</caption>\n",
       "<thead>\n",
       "\t<tr><th scope=col>Age</th><th scope=col>Attrition</th><th scope=col>BusinessTravel</th><th scope=col>DailyRate</th><th scope=col>Department</th><th scope=col>DistanceFromHome</th><th scope=col>Education</th><th scope=col>EducationField</th><th scope=col>EmployeeCount</th><th scope=col>EmployeeNumber</th><th scope=col>⋯</th><th scope=col>RelationshipSatisfaction</th><th scope=col>StandardHours</th><th scope=col>StockOptionLevel</th><th scope=col>TotalWorkingYears</th><th scope=col>TrainingTimesLastYear</th><th scope=col>WorkLifeBalance</th><th scope=col>YearsAtCompany</th><th scope=col>YearsInCurrentRole</th><th scope=col>YearsSinceLastPromotion</th><th scope=col>YearsWithCurrManager</th></tr>\n",
       "\t<tr><th scope=col>&lt;dbl&gt;</th><th scope=col>&lt;chr&gt;</th><th scope=col>&lt;chr&gt;</th><th scope=col>&lt;dbl&gt;</th><th scope=col>&lt;chr&gt;</th><th scope=col>&lt;dbl&gt;</th><th scope=col>&lt;dbl&gt;</th><th scope=col>&lt;chr&gt;</th><th scope=col>&lt;dbl&gt;</th><th scope=col>&lt;dbl&gt;</th><th scope=col>⋯</th><th scope=col>&lt;dbl&gt;</th><th scope=col>&lt;dbl&gt;</th><th scope=col>&lt;dbl&gt;</th><th scope=col>&lt;dbl&gt;</th><th scope=col>&lt;dbl&gt;</th><th scope=col>&lt;dbl&gt;</th><th scope=col>&lt;dbl&gt;</th><th scope=col>&lt;dbl&gt;</th><th scope=col>&lt;dbl&gt;</th><th scope=col>&lt;dbl&gt;</th></tr>\n",
       "</thead>\n",
       "<tbody>\n",
       "\t<tr><td>41</td><td>Yes</td><td>Travel_Rarely    </td><td>1102</td><td>Sales                 </td><td>1</td><td>2</td><td>Life Sciences</td><td>1</td><td>1</td><td>⋯</td><td>1</td><td>80</td><td>0</td><td> 8</td><td>0</td><td>1</td><td> 6</td><td>4</td><td>0</td><td>5</td></tr>\n",
       "\t<tr><td>49</td><td>No </td><td>Travel_Frequently</td><td> 279</td><td>Research &amp; Development</td><td>8</td><td>1</td><td>Life Sciences</td><td>1</td><td>2</td><td>⋯</td><td>4</td><td>80</td><td>1</td><td>10</td><td>3</td><td>3</td><td>10</td><td>7</td><td>1</td><td>7</td></tr>\n",
       "\t<tr><td>37</td><td>Yes</td><td><span style=white-space:pre-wrap>Travel_Rarely    </span></td><td>1373</td><td>Research &amp; Development</td><td>2</td><td>2</td><td><span style=white-space:pre-wrap>Other        </span></td><td>1</td><td>4</td><td>⋯</td><td>2</td><td>80</td><td>0</td><td> 7</td><td>3</td><td>3</td><td> 0</td><td>0</td><td>0</td><td>0</td></tr>\n",
       "\t<tr><td>33</td><td>No </td><td>Travel_Frequently</td><td>1392</td><td>Research &amp; Development</td><td>3</td><td>4</td><td>Life Sciences</td><td>1</td><td>5</td><td>⋯</td><td>3</td><td>80</td><td>0</td><td> 8</td><td>3</td><td>3</td><td> 8</td><td>7</td><td>3</td><td>0</td></tr>\n",
       "\t<tr><td>27</td><td>No </td><td><span style=white-space:pre-wrap>Travel_Rarely    </span></td><td> 591</td><td>Research &amp; Development</td><td>2</td><td>1</td><td><span style=white-space:pre-wrap>Medical      </span></td><td>1</td><td>7</td><td>⋯</td><td>4</td><td>80</td><td>1</td><td> 6</td><td>3</td><td>3</td><td> 2</td><td>2</td><td>2</td><td>2</td></tr>\n",
       "\t<tr><td>32</td><td>No </td><td>Travel_Frequently</td><td>1005</td><td>Research &amp; Development</td><td>2</td><td>2</td><td>Life Sciences</td><td>1</td><td>8</td><td>⋯</td><td>3</td><td>80</td><td>0</td><td> 8</td><td>2</td><td>2</td><td> 7</td><td>7</td><td>3</td><td>6</td></tr>\n",
       "</tbody>\n",
       "</table>\n"
      ],
      "text/latex": [
       "A tibble: 6 × 35\n",
       "\\begin{tabular}{lllllllllllllllllllll}\n",
       " Age & Attrition & BusinessTravel & DailyRate & Department & DistanceFromHome & Education & EducationField & EmployeeCount & EmployeeNumber & ⋯ & RelationshipSatisfaction & StandardHours & StockOptionLevel & TotalWorkingYears & TrainingTimesLastYear & WorkLifeBalance & YearsAtCompany & YearsInCurrentRole & YearsSinceLastPromotion & YearsWithCurrManager\\\\\n",
       " <dbl> & <chr> & <chr> & <dbl> & <chr> & <dbl> & <dbl> & <chr> & <dbl> & <dbl> & ⋯ & <dbl> & <dbl> & <dbl> & <dbl> & <dbl> & <dbl> & <dbl> & <dbl> & <dbl> & <dbl>\\\\\n",
       "\\hline\n",
       "\t 41 & Yes & Travel\\_Rarely     & 1102 & Sales                  & 1 & 2 & Life Sciences & 1 & 1 & ⋯ & 1 & 80 & 0 &  8 & 0 & 1 &  6 & 4 & 0 & 5\\\\\n",
       "\t 49 & No  & Travel\\_Frequently &  279 & Research \\& Development & 8 & 1 & Life Sciences & 1 & 2 & ⋯ & 4 & 80 & 1 & 10 & 3 & 3 & 10 & 7 & 1 & 7\\\\\n",
       "\t 37 & Yes & Travel\\_Rarely     & 1373 & Research \\& Development & 2 & 2 & Other         & 1 & 4 & ⋯ & 2 & 80 & 0 &  7 & 3 & 3 &  0 & 0 & 0 & 0\\\\\n",
       "\t 33 & No  & Travel\\_Frequently & 1392 & Research \\& Development & 3 & 4 & Life Sciences & 1 & 5 & ⋯ & 3 & 80 & 0 &  8 & 3 & 3 &  8 & 7 & 3 & 0\\\\\n",
       "\t 27 & No  & Travel\\_Rarely     &  591 & Research \\& Development & 2 & 1 & Medical       & 1 & 7 & ⋯ & 4 & 80 & 1 &  6 & 3 & 3 &  2 & 2 & 2 & 2\\\\\n",
       "\t 32 & No  & Travel\\_Frequently & 1005 & Research \\& Development & 2 & 2 & Life Sciences & 1 & 8 & ⋯ & 3 & 80 & 0 &  8 & 2 & 2 &  7 & 7 & 3 & 6\\\\\n",
       "\\end{tabular}\n"
      ],
      "text/markdown": [
       "\n",
       "A tibble: 6 × 35\n",
       "\n",
       "| Age &lt;dbl&gt; | Attrition &lt;chr&gt; | BusinessTravel &lt;chr&gt; | DailyRate &lt;dbl&gt; | Department &lt;chr&gt; | DistanceFromHome &lt;dbl&gt; | Education &lt;dbl&gt; | EducationField &lt;chr&gt; | EmployeeCount &lt;dbl&gt; | EmployeeNumber &lt;dbl&gt; | ⋯ ⋯ | RelationshipSatisfaction &lt;dbl&gt; | StandardHours &lt;dbl&gt; | StockOptionLevel &lt;dbl&gt; | TotalWorkingYears &lt;dbl&gt; | TrainingTimesLastYear &lt;dbl&gt; | WorkLifeBalance &lt;dbl&gt; | YearsAtCompany &lt;dbl&gt; | YearsInCurrentRole &lt;dbl&gt; | YearsSinceLastPromotion &lt;dbl&gt; | YearsWithCurrManager &lt;dbl&gt; |\n",
       "|---|---|---|---|---|---|---|---|---|---|---|---|---|---|---|---|---|---|---|---|---|\n",
       "| 41 | Yes | Travel_Rarely     | 1102 | Sales                  | 1 | 2 | Life Sciences | 1 | 1 | ⋯ | 1 | 80 | 0 |  8 | 0 | 1 |  6 | 4 | 0 | 5 |\n",
       "| 49 | No  | Travel_Frequently |  279 | Research &amp; Development | 8 | 1 | Life Sciences | 1 | 2 | ⋯ | 4 | 80 | 1 | 10 | 3 | 3 | 10 | 7 | 1 | 7 |\n",
       "| 37 | Yes | Travel_Rarely     | 1373 | Research &amp; Development | 2 | 2 | Other         | 1 | 4 | ⋯ | 2 | 80 | 0 |  7 | 3 | 3 |  0 | 0 | 0 | 0 |\n",
       "| 33 | No  | Travel_Frequently | 1392 | Research &amp; Development | 3 | 4 | Life Sciences | 1 | 5 | ⋯ | 3 | 80 | 0 |  8 | 3 | 3 |  8 | 7 | 3 | 0 |\n",
       "| 27 | No  | Travel_Rarely     |  591 | Research &amp; Development | 2 | 1 | Medical       | 1 | 7 | ⋯ | 4 | 80 | 1 |  6 | 3 | 3 |  2 | 2 | 2 | 2 |\n",
       "| 32 | No  | Travel_Frequently | 1005 | Research &amp; Development | 2 | 2 | Life Sciences | 1 | 8 | ⋯ | 3 | 80 | 0 |  8 | 2 | 2 |  7 | 7 | 3 | 6 |\n",
       "\n"
      ],
      "text/plain": [
       "  Age Attrition BusinessTravel   \n",
       "1 41  Yes       Travel_Rarely    \n",
       "2 49  No        Travel_Frequently\n",
       "3 37  Yes       Travel_Rarely    \n",
       "4 33  No        Travel_Frequently\n",
       "5 27  No        Travel_Rarely    \n",
       "6 32  No        Travel_Frequently\n",
       "  DailyRate Department            \n",
       "1 1102      Sales                 \n",
       "2  279      Research & Development\n",
       "3 1373      Research & Development\n",
       "4 1392      Research & Development\n",
       "5  591      Research & Development\n",
       "6 1005      Research & Development\n",
       "  DistanceFromHome Education\n",
       "1 1                2        \n",
       "2 8                1        \n",
       "3 2                2        \n",
       "4 3                4        \n",
       "5 2                1        \n",
       "6 2                2        \n",
       "  EducationField EmployeeCount\n",
       "1 Life Sciences  1            \n",
       "2 Life Sciences  1            \n",
       "3 Other          1            \n",
       "4 Life Sciences  1            \n",
       "5 Medical        1            \n",
       "6 Life Sciences  1            \n",
       "  EmployeeNumber ⋯\n",
       "1 1              ⋯\n",
       "2 2              ⋯\n",
       "3 4              ⋯\n",
       "4 5              ⋯\n",
       "5 7              ⋯\n",
       "6 8              ⋯\n",
       "  RelationshipSatisfaction\n",
       "1 1                       \n",
       "2 4                       \n",
       "3 2                       \n",
       "4 3                       \n",
       "5 4                       \n",
       "6 3                       \n",
       "  StandardHours StockOptionLevel\n",
       "1 80            0               \n",
       "2 80            1               \n",
       "3 80            0               \n",
       "4 80            0               \n",
       "5 80            1               \n",
       "6 80            0               \n",
       "  TotalWorkingYears\n",
       "1  8               \n",
       "2 10               \n",
       "3  7               \n",
       "4  8               \n",
       "5  6               \n",
       "6  8               \n",
       "  TrainingTimesLastYear\n",
       "1 0                    \n",
       "2 3                    \n",
       "3 3                    \n",
       "4 3                    \n",
       "5 3                    \n",
       "6 2                    \n",
       "  WorkLifeBalance YearsAtCompany\n",
       "1 1                6            \n",
       "2 3               10            \n",
       "3 3                0            \n",
       "4 3                8            \n",
       "5 3                2            \n",
       "6 2                7            \n",
       "  YearsInCurrentRole\n",
       "1 4                 \n",
       "2 7                 \n",
       "3 0                 \n",
       "4 7                 \n",
       "5 2                 \n",
       "6 7                 \n",
       "  YearsSinceLastPromotion\n",
       "1 0                      \n",
       "2 1                      \n",
       "3 0                      \n",
       "4 3                      \n",
       "5 2                      \n",
       "6 3                      \n",
       "  YearsWithCurrManager\n",
       "1 5                   \n",
       "2 7                   \n",
       "3 0                   \n",
       "4 0                   \n",
       "5 2                   \n",
       "6 6                   "
      ]
     },
     "metadata": {},
     "output_type": "display_data"
    }
   ],
   "source": [
    "data <- read_csv(\"HR-Employee-Attrition.csv\")\n",
    "options(width = 36)\n",
    "head(data)"
   ]
  },
  {
   "cell_type": "markdown",
   "id": "fafdbf6b-6920-4f77-b3f0-27eae14ef031",
   "metadata": {},
   "source": [
    "The dataset contains the information about erevy employees, such as their personal information and information about their status in the company. The focus of dataset is the attrition status and can be used to help HR to decide to retain this employee or not. There are 1470 observations in the dataset and 35 variables. Below is the description of dataset。"
   ]
  },
  {
   "cell_type": "markdown",
   "id": "3b3145ef-4e8e-4720-93fe-f0e4c8ba2388",
   "metadata": {},
   "source": [
    "|Variable |Type |Description |\n",
    "|---------|-----|------------|\n",
    "|Age      |continuous  |Age of Employee|\n",
    "|Attrition| categorical|If the employee has been quited or some other reason|\n",
    "|BusinessTravel| categorical| Rate of business travel|\n",
    "|DailyRate| continuous| Amount of pay per day|\n",
    "|Department|categorical| Department of employee|\n",
    "|DistanceFromHome| continuous| Distance from home to work in miles|\n",
    "|Education|categorical| Education level|\n",
    "|EducationField| categorical| Field of study|\n",
    "|EmployeeCount| continuous| Count of employee|\n",
    "|EmployeeNumber| categorical | Employee number|\n",
    "|EnvironmentSatisfaction|categorical|Employee satisfaction(from 1 to 4) at work|\n",
    "|Gender| categorical | gender of employee|\n",
    "|HourlyRate|continuous|employee hourly rate|\n",
    "|JobInvolvement| categorical| Level of involvment|\n",
    "|JobLevel|categorical|Level of senority|\n",
    "|JobRole| categorical|Employee's role in the company|\n",
    "|JobSatisfaction|categorical|Satisfaction of employee|\n",
    "|MaritalStatus|categorical|Marital Status of employee|\n",
    "|MonthlyIncome|continuous|Monthly income of an employee|\n",
    "|MonthlyRate|continuous|Monthly rate of an employee|\n",
    "|NumCompaniesWorked|continuous|Number of companies that employee has worked at before|\n",
    "|Over18|categorical|Employee is over 18 or not|\n",
    "|OverTime|categorical|Whether the employee works overtime|\n",
    "|PercentSalaryHike|continuous|Percent of salary hike|\n",
    "|PerformanceRating|categorical|performance rate|\n",
    "|RelationshipSatisfaction|categorical|satisfaction of relationship |\n",
    "|StandardHours|continuous| per week standard work hours|\n",
    "|StockOptionLevel|categorical| company stock option level|\n",
    "|TotalWorkingYears| continuous| total working years|\n",
    "|TrainingTimesLastYear|continuous|training time|\n",
    "|WorkLifeBalance|categorical|balance between work and life|\n",
    "|YearAtCompany|continuous|total years at current company|\n",
    "|YearsInCurrentRole| continuous| total years in current role|\n",
    "|YearsSinceLastPromotion|continuous|number of years since last promotion|\n",
    "|YearsWithCurrManager| continuous|Years working under the current manager|"
   ]
  },
  {
   "cell_type": "markdown",
   "id": "3bddd49d-2655-49e3-b576-1b6c682dc932",
   "metadata": {},
   "source": [
    "Question: How is attrition (as our response variable) affected by the variables in the dataset. For the explanatory variables, we will discuss it more in the next several phases of the project."
   ]
  },
  {
   "cell_type": "code",
   "execution_count": null,
   "id": "7b4963ba-26fa-48a5-889b-7f9a18d86d8c",
   "metadata": {},
   "outputs": [],
   "source": []
  }
 ],
 "metadata": {
  "kernelspec": {
   "display_name": "R",
   "language": "R",
   "name": "ir"
  },
  "language_info": {
   "codemirror_mode": "r",
   "file_extension": ".r",
   "mimetype": "text/x-r-source",
   "name": "R",
   "pygments_lexer": "r",
   "version": "4.2.3"
  }
 },
 "nbformat": 4,
 "nbformat_minor": 5
}
